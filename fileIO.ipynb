{
 "cells": [
  {
   "cell_type": "code",
   "execution_count": 21,
   "metadata": {},
   "outputs": [
    {
     "name": "stdout",
     "output_type": "stream",
     "text": [
      "My name is sanuar \n",
      "iam 24 years old\n",
      "iam a data sicentist\n",
      "\n",
      "My name is sanuar \n",
      "\n",
      "iam 24 years old\n",
      "\n"
     ]
    }
   ],
   "source": [
    "#Read\n",
    "f = open(\"sample.txt\",\"r\")\n",
    "#data = f.read(5) #here 5 means output shows only 5 index value\n",
    "data = f.read()\n",
    "print(data)\n",
    "f.close()\n",
    "\n",
    "f = open(\"sample.txt\",\"r\")\n",
    "line1 = f.readline() #read line one\n",
    "print(line1)\n",
    "line2 = f.readline()\n",
    "print(line2)\n",
    "f.close()\n"
   ]
  },
  {
   "cell_type": "code",
   "execution_count": 34,
   "metadata": {},
   "outputs": [
    {
     "name": "stdout",
     "output_type": "stream",
     "text": [
      "s is a new file\n"
     ]
    }
   ],
   "source": [
    "#Write\n",
    "f = open(\"demo.txt\",\"w\")\n",
    "f.write(\"This is a new file\") #its overwrite whole file\n",
    "f.close()\n",
    "\n",
    "#append\n",
    "f = open(\"demo.txt\",\"a\")\n",
    "f.write(\"\\nAppend this new line\")\n",
    "f.close()\n",
    "\n",
    "#Open new file (if there is no existing file, then it will be automatically open a new file)\n",
    "#f = open(\"new.txt\",\"w\") # here \"a\" also work same task\n",
    "#f.close()\n",
    "\n",
    "f = open(\"new.txt\",\"r+\")\n",
    "f.write(\"abc\")\n",
    "print(f.read())\n",
    "f.close()\n",
    "\n",
    "f = open(\"w+.txt\",\"w+\")\n",
    "f.write(\"abc\")\n",
    "f.close()\n"
   ]
  },
  {
   "cell_type": "code",
   "execution_count": 45,
   "metadata": {},
   "outputs": [
    {
     "name": "stdout",
     "output_type": "stream",
     "text": [
      "This is a new line\n"
     ]
    }
   ],
   "source": [
    "with open(\"syntex.txt\",\"r\") as f:\n",
    "    data = f.read()\n",
    "    print(data)\n",
    "    \n",
    "with open(\"syntex.txt\",\"w\") as f:\n",
    "    f.write(\"new data\")"
   ]
  },
  {
   "cell_type": "code",
   "execution_count": 46,
   "metadata": {},
   "outputs": [],
   "source": [
    "#Delete file\n",
    "import os\n",
    "os.remove(\"delete.txt\")"
   ]
  },
  {
   "cell_type": "code",
   "execution_count": 50,
   "metadata": {},
   "outputs": [
    {
     "name": "stdout",
     "output_type": "stream",
     "text": [
      "Hi everyone\n",
      "we are learning file I/O\n",
      "using Pyhthon.\n",
      "I like programming in Pyhthon\n",
      "Found\n"
     ]
    }
   ],
   "source": [
    "#practice\n",
    "with open(\"practice.txt\",\"w\") as f:\n",
    "    f.write(\"Hi everyone\\nwe are learning file I/O\\n\")\n",
    "    f.write(\"using java.\\nI like programming in java\")\n",
    "    \n",
    "with open(\"practice.txt\",\"r\") as f:\n",
    "    data = f.read()\n",
    "    \n",
    "new_data = data.replace(\"java\",\"Pyhthon\")\n",
    "print(new_data)\n",
    "\n",
    "with open(\"practice.txt\",\"w\") as f:\n",
    "    f.write(new_data)\n",
    " \n",
    "word = \"learning\"   \n",
    "with open(\"practice.txt\",\"r\") as f:\n",
    "    data = f.read()\n",
    "    if(data.find(word) != -1):\n",
    "        print(\"Found\")\n",
    "    else:\n",
    "        print(\"Not found\")\n",
    "        \n",
    "    "
   ]
  },
  {
   "cell_type": "code",
   "execution_count": 51,
   "metadata": {},
   "outputs": [
    {
     "name": "stdout",
     "output_type": "stream",
     "text": [
      "Found\n"
     ]
    }
   ],
   "source": [
    "def check_for_word():\n",
    "    word = \"learning\"   \n",
    "    with open(\"practice.txt\",\"r\") as f:\n",
    "        data = f.read()\n",
    "        if(data.find(word) != -1):\n",
    "            print(\"Found\")\n",
    "        else:\n",
    "            print(\"Not found\")\n",
    "\n",
    "check_for_word()"
   ]
  },
  {
   "cell_type": "code",
   "execution_count": 53,
   "metadata": {},
   "outputs": [
    {
     "name": "stdout",
     "output_type": "stream",
     "text": [
      "2\n"
     ]
    }
   ],
   "source": [
    "def check_for_line():\n",
    "    word = \"learning\"\n",
    "    data = True\n",
    "    line_no =1\n",
    "    with open(\"practice.txt\",\"r\") as f:\n",
    "        while data:\n",
    "            data = f.readline()\n",
    "            if(word in data):\n",
    "                print(line_no)\n",
    "                return\n",
    "            line_no += 1\n",
    "    return -1\n",
    "print(check_for_line())"
   ]
  },
  {
   "cell_type": "code",
   "execution_count": 56,
   "metadata": {},
   "outputs": [
    {
     "name": "stdout",
     "output_type": "stream",
     "text": [
      "1, 2, 76, 84, 90, 101\n",
      "1\n",
      "2\n",
      "76\n",
      "84\n",
      "90\n"
     ]
    }
   ],
   "source": [
    "with open(\"prac.txt\",\"r\") as f:\n",
    "    data = f.read()\n",
    "    print(data)\n",
    "    \n",
    "    num = \"\"\n",
    "    for i in range(len(data)):\n",
    "        if(data[i] == \",\"):\n",
    "            print(int(num))\n",
    "            num = \"\"\n",
    "        else:\n",
    "            num += data[i]"
   ]
  },
  {
   "cell_type": "code",
   "execution_count": 57,
   "metadata": {},
   "outputs": [
    {
     "name": "stdout",
     "output_type": "stream",
     "text": [
      "4\n"
     ]
    }
   ],
   "source": [
    "count = 0\n",
    "with open(\"prac.txt\",\"r\") as f:\n",
    "    data = f.read()\n",
    "    \n",
    "    nums = data.split(\",\")\n",
    "    for val in nums:\n",
    "        if(int(val) % 2 == 0):\n",
    "            count += 1\n",
    "print(count)\n",
    "    "
   ]
  }
 ],
 "metadata": {
  "kernelspec": {
   "display_name": "base",
   "language": "python",
   "name": "python3"
  },
  "language_info": {
   "codemirror_mode": {
    "name": "ipython",
    "version": 3
   },
   "file_extension": ".py",
   "mimetype": "text/x-python",
   "name": "python",
   "nbconvert_exporter": "python",
   "pygments_lexer": "ipython3",
   "version": "3.11.7"
  }
 },
 "nbformat": 4,
 "nbformat_minor": 2
}
